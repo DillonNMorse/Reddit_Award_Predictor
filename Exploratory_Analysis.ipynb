{
 "cells": [
  {
   "cell_type": "code",
   "execution_count": 1,
   "metadata": {},
   "outputs": [],
   "source": [
    "import pandas as pd\n",
    "import matplotlib.pyplot as plt\n",
    "import numpy as np\n"
   ]
  },
  {
   "cell_type": "code",
   "execution_count": 2,
   "metadata": {},
   "outputs": [],
   "source": [
    "df1 = pd.read_pickle('./data/12-15_at_1816est_sortby_hot_use_10comms.pkl')\n",
    "df2 = pd.read_pickle('./data/12-15_at_1805est_sortby_new_use_10comms.pkl')\n",
    "df3 = pd.read_pickle('./data/12-15_at_1805est_sortby_rising_use_10comms.pkl')"
   ]
  },
  {
   "cell_type": "code",
   "execution_count": 3,
   "metadata": {},
   "outputs": [],
   "source": [
    "df = pd.concat([df1, df2, df3])\n",
    "df = df[~df.index.duplicated(keep='first')]"
   ]
  },
  {
   "cell_type": "code",
   "execution_count": 4,
   "metadata": {},
   "outputs": [
    {
     "name": "stdout",
     "output_type": "stream",
     "text": [
      "There are 1388 submissions.\n"
     ]
    }
   ],
   "source": [
    "print('There are {} submissions.'.format(df.shape[0]))"
   ]
  },
  {
   "cell_type": "code",
   "execution_count": 5,
   "metadata": {},
   "outputs": [
    {
     "data": {
      "text/html": [
       "<div>\n",
       "<style scoped>\n",
       "    .dataframe tbody tr th:only-of-type {\n",
       "        vertical-align: middle;\n",
       "    }\n",
       "\n",
       "    .dataframe tbody tr th {\n",
       "        vertical-align: top;\n",
       "    }\n",
       "\n",
       "    .dataframe thead th {\n",
       "        text-align: right;\n",
       "    }\n",
       "</style>\n",
       "<table border=\"1\" class=\"dataframe\">\n",
       "  <thead>\n",
       "    <tr style=\"text-align: right;\">\n",
       "      <th></th>\n",
       "      <th>Title</th>\n",
       "      <th>Author</th>\n",
       "      <th>ID</th>\n",
       "      <th>Gilded</th>\n",
       "      <th>Gildings</th>\n",
       "      <th>Upvotes</th>\n",
       "      <th>Upvote ratio</th>\n",
       "      <th>Post time</th>\n",
       "      <th>Views</th>\n",
       "      <th>Discussion type</th>\n",
       "      <th>...</th>\n",
       "      <th>Subreddit</th>\n",
       "      <th>Post age</th>\n",
       "      <th>Upvote rate</th>\n",
       "      <th>Comment rate</th>\n",
       "      <th>Avg top comments up rate</th>\n",
       "      <th>Std top comments up rate</th>\n",
       "      <th>Gilded rate</th>\n",
       "      <th>Distinguished rate</th>\n",
       "      <th>Op comment rate</th>\n",
       "      <th>Premium author rate</th>\n",
       "    </tr>\n",
       "  </thead>\n",
       "  <tbody>\n",
       "    <tr>\n",
       "      <th>kdstuu</th>\n",
       "      <td>Nestle illegally fires worker for reporting ra...</td>\n",
       "      <td>fallingleaf_271</td>\n",
       "      <td>kdstuu</td>\n",
       "      <td>0</td>\n",
       "      <td>{'gid_1': 2}</td>\n",
       "      <td>26690</td>\n",
       "      <td>0.94</td>\n",
       "      <td>764</td>\n",
       "      <td>None</td>\n",
       "      <td>None</td>\n",
       "      <td>...</td>\n",
       "      <td>news</td>\n",
       "      <td>212.261</td>\n",
       "      <td>125.741</td>\n",
       "      <td>4.50388</td>\n",
       "      <td>0.119903</td>\n",
       "      <td>0.0251586</td>\n",
       "      <td>0</td>\n",
       "      <td>0</td>\n",
       "      <td>0</td>\n",
       "      <td>0</td>\n",
       "    </tr>\n",
       "    <tr>\n",
       "      <th>kdqntm</th>\n",
       "      <td>High-Elf Joe Biden</td>\n",
       "      <td>Link3265</td>\n",
       "      <td>kdqntm</td>\n",
       "      <td>0</td>\n",
       "      <td>{'gid_1': 3}</td>\n",
       "      <td>37352</td>\n",
       "      <td>0.91</td>\n",
       "      <td>657</td>\n",
       "      <td>None</td>\n",
       "      <td>None</td>\n",
       "      <td>...</td>\n",
       "      <td>pics</td>\n",
       "      <td>318.504</td>\n",
       "      <td>117.273</td>\n",
       "      <td>2.28569</td>\n",
       "      <td>0.0293813</td>\n",
       "      <td>0.00113704</td>\n",
       "      <td>0.2</td>\n",
       "      <td>0</td>\n",
       "      <td>0</td>\n",
       "      <td>0.4</td>\n",
       "    </tr>\n",
       "    <tr>\n",
       "      <th>kdq1p2</th>\n",
       "      <td>TIL Frank Sinatra died the night of Seinfeld's...</td>\n",
       "      <td>sunghooter</td>\n",
       "      <td>kdq1p2</td>\n",
       "      <td>0</td>\n",
       "      <td>{'gid_1': 7}</td>\n",
       "      <td>76288</td>\n",
       "      <td>0.92</td>\n",
       "      <td>627</td>\n",
       "      <td>None</td>\n",
       "      <td>None</td>\n",
       "      <td>...</td>\n",
       "      <td>todayilearned</td>\n",
       "      <td>349.323</td>\n",
       "      <td>218.388</td>\n",
       "      <td>3.66996</td>\n",
       "      <td>0.17064</td>\n",
       "      <td>0.07367</td>\n",
       "      <td>0.2</td>\n",
       "      <td>0</td>\n",
       "      <td>0</td>\n",
       "      <td>0.2</td>\n",
       "    </tr>\n",
       "  </tbody>\n",
       "</table>\n",
       "<p>3 rows × 36 columns</p>\n",
       "</div>"
      ],
      "text/plain": [
       "                                                    Title           Author  \\\n",
       "kdstuu  Nestle illegally fires worker for reporting ra...  fallingleaf_271   \n",
       "kdqntm                                 High-Elf Joe Biden         Link3265   \n",
       "kdq1p2  TIL Frank Sinatra died the night of Seinfeld's...       sunghooter   \n",
       "\n",
       "            ID Gilded      Gildings Upvotes Upvote ratio Post time Views  \\\n",
       "kdstuu  kdstuu      0  {'gid_1': 2}   26690         0.94       764  None   \n",
       "kdqntm  kdqntm      0  {'gid_1': 3}   37352         0.91       657  None   \n",
       "kdq1p2  kdq1p2      0  {'gid_1': 7}   76288         0.92       627  None   \n",
       "\n",
       "       Discussion type  ...      Subreddit Post age Upvote rate Comment rate  \\\n",
       "kdstuu            None  ...           news  212.261     125.741      4.50388   \n",
       "kdqntm            None  ...           pics  318.504     117.273      2.28569   \n",
       "kdq1p2            None  ...  todayilearned  349.323     218.388      3.66996   \n",
       "\n",
       "       Avg top comments up rate Std top comments up rate Gilded rate  \\\n",
       "kdstuu                 0.119903                0.0251586           0   \n",
       "kdqntm                0.0293813               0.00113704         0.2   \n",
       "kdq1p2                  0.17064                  0.07367         0.2   \n",
       "\n",
       "       Distinguished rate Op comment rate Premium author rate  \n",
       "kdstuu                  0               0                   0  \n",
       "kdqntm                  0               0                 0.4  \n",
       "kdq1p2                  0               0                 0.2  \n",
       "\n",
       "[3 rows x 36 columns]"
      ]
     },
     "execution_count": 5,
     "metadata": {},
     "output_type": "execute_result"
    }
   ],
   "source": [
    "df.head(3)"
   ]
  },
  {
   "cell_type": "markdown",
   "metadata": {},
   "source": [
    "Remove any entries which have already been gilded.\n",
    "\n",
    "Users may interact with already-gilded posts differently then yet-to-be-gilded posts, best to drop any posts which have been gilded so as not to see any confounding effects."
   ]
  },
  {
   "cell_type": "code",
   "execution_count": 6,
   "metadata": {},
   "outputs": [],
   "source": [
    "reddit = df[df['Gilded'] == 0]"
   ]
  },
  {
   "cell_type": "markdown",
   "metadata": {},
   "source": [
    "Drop those columns which either aren't used, or don't contain usable information."
   ]
  },
  {
   "cell_type": "code",
   "execution_count": 7,
   "metadata": {},
   "outputs": [],
   "source": [
    "cols_to_drop = ['Title',\n",
    "                'Author',\n",
    "                'ID',\n",
    "                'Gilded',\n",
    "                'Views',\n",
    "                'Discussion type',\n",
    "                'Hidden',\n",
    "                'Crosspostable',\n",
    "                'Robot indexable',\n",
    "                'Upvotes',\n",
    "                'Likes',\n",
    "                'Comments',\n",
    "                'Post age',\n",
    "               ]\n",
    "reddit = reddit.drop(columns = cols_to_drop)"
   ]
  },
  {
   "cell_type": "markdown",
   "metadata": {},
   "source": [
    "Extract from the 'Gildings' columns those posts which have been awarded silver, create a new column to hold this info and then drop the 'Gildings' column."
   ]
  },
  {
   "cell_type": "code",
   "execution_count": 8,
   "metadata": {},
   "outputs": [],
   "source": [
    "reddit['Num silver'] = reddit['Gildings'].apply(lambda x: x['gid_1'] if not x=={} else 0)\n",
    "reddit = reddit.drop(columns = ['Gildings'])"
   ]
  },
  {
   "cell_type": "markdown",
   "metadata": {},
   "source": [
    "Remove nulls from 'Distinguished' feature by replacing them with the string 'False' to create a new (third) category."
   ]
  },
  {
   "cell_type": "code",
   "execution_count": 9,
   "metadata": {},
   "outputs": [],
   "source": [
    "reddit['Distinguished'].fillna(value = 'False', inplace = True)"
   ]
  },
  {
   "cell_type": "markdown",
   "metadata": {},
   "source": [
    "Content categories is only used for a handful of subreddits. Extract those categories when present otherwise return 'None'."
   ]
  },
  {
   "cell_type": "code",
   "execution_count": 10,
   "metadata": {},
   "outputs": [],
   "source": [
    "reddit['Content categories'] = reddit['Content categories'].apply(lambda x: 'None' if x is None else x[0])"
   ]
  },
  {
   "cell_type": "markdown",
   "metadata": {},
   "source": [
    "Those submissions which have been edited are marked by their edit time. Replace these with the boolean True as I will not use the exact time of edit, rather keeping only a flag as to whether an edit has been made or not."
   ]
  },
  {
   "cell_type": "code",
   "execution_count": 11,
   "metadata": {},
   "outputs": [],
   "source": [
    "reddit['Edited'] = reddit['Edited'].apply(lambda x: True if x != False else x)"
   ]
  },
  {
   "cell_type": "markdown",
   "metadata": {},
   "source": [
    "Cast the 'Crossposts' feature as an integer, counting the number of crossposts."
   ]
  },
  {
   "cell_type": "code",
   "execution_count": 12,
   "metadata": {},
   "outputs": [],
   "source": [
    "reddit['Crossposts'] = reddit['Crossposts'].astype(int)"
   ]
  },
  {
   "cell_type": "markdown",
   "metadata": {},
   "source": [
    "Consider seperately those features which are categorical vs. those that are numerical."
   ]
  },
  {
   "cell_type": "code",
   "execution_count": 13,
   "metadata": {},
   "outputs": [],
   "source": [
    "categorical = ['Distinguished',\n",
    "               'Contest mode',\n",
    "               'Content categories',\n",
    "               'Edited',\n",
    "               'Meta',\n",
    "               'OC',\n",
    "               'Reddit media',\n",
    "               'Selfpost',\n",
    "               'Video',\n",
    "               'Adult content',\n",
    "               'Subreddit',\n",
    "              ]\n",
    "numerical = ['Upvote ratio',\n",
    "             'Post time',\n",
    "             'Crossposts',\n",
    "             'Upvote rate',\n",
    "             'Comment rate',\n",
    "             'Avg top comments up rate',\n",
    "             'Std top comments up rate',\n",
    "             'Gilded rate',\n",
    "             'Distinguished rate',\n",
    "             'Op comment rate',\n",
    "             'Premium author rate',\n",
    "             'Num silver',\n",
    "            ]"
   ]
  },
  {
   "cell_type": "code",
   "execution_count": 15,
   "metadata": {},
   "outputs": [
    {
     "name": "stdout",
     "output_type": "stream",
     "text": [
      "Total number of categorical plus numerical:  23\n",
      "Total number of columns:  23\n",
      "\n",
      "Total number of usable submissions 1352\n"
     ]
    }
   ],
   "source": [
    "reddit_cat = reddit[categorical]\n",
    "reddit_num = reddit[numerical]\n",
    "\n",
    "print('Total number of categorical plus numerical: ', len(categorical)+len(numerical))\n",
    "print('Total number of columns: ', reddit.shape[1])\n",
    "print('\\nTotal number of usable submissions {}'.format(reddit.shape[0]))"
   ]
  },
  {
   "cell_type": "code",
   "execution_count": 23,
   "metadata": {},
   "outputs": [
    {
     "data": {
      "text/plain": [
       "Title                       Today we’re testing a new way to discuss polit...\n",
       "Author                                                                   spez\n",
       "ID                                                                     ipitt0\n",
       "Gilded                                                                      3\n",
       "Gildings                                            {'gid_1': 15, 'gid_2': 3}\n",
       "Upvotes                                                                 16003\n",
       "Upvote ratio                                                             0.57\n",
       "Post time                                                                 606\n",
       "Views                                                                    None\n",
       "Discussion type                                                          None\n",
       "Distinguished                                                           admin\n",
       "Contest mode                                                            False\n",
       "Content categories                                                       None\n",
       "Edited                                                            1.60133e+09\n",
       "Hidden                                                                  False\n",
       "Crosspostable                                                           False\n",
       "Crossposts                                                                 49\n",
       "Meta                                                                    False\n",
       "OC                                                                      False\n",
       "Reddit media                                                            False\n",
       "Robot indexable                                                          True\n",
       "Selfpost                                                                 True\n",
       "Video                                                                   False\n",
       "Likes                                                                    None\n",
       "Comments                                                                    2\n",
       "Adult content                                                           False\n",
       "Subreddit                                                       announcements\n",
       "Post age                                                               140051\n",
       "Upvote rate                                                          0.114266\n",
       "Comment rate                                                      1.42806e-05\n",
       "Avg top comments up rate                                         -0.000307349\n",
       "Std top comments up rate                                          9.45364e-08\n",
       "Gilded rate                                                               0.5\n",
       "Distinguished rate                                                          1\n",
       "Op comment rate                                                           0.5\n",
       "Premium author rate                                                         1\n",
       "Name: ipitt0, dtype: object"
      ]
     },
     "execution_count": 23,
     "metadata": {},
     "output_type": "execute_result"
    }
   ],
   "source": [
    "df.loc[df['Post age'].sort_values(ascending = False).index[0],:]\n",
    "\n"
   ]
  },
  {
   "cell_type": "code",
   "execution_count": null,
   "metadata": {},
   "outputs": [],
   "source": []
  }
 ],
 "metadata": {
  "kernelspec": {
   "display_name": "Reddit",
   "language": "python",
   "name": "reddit"
  },
  "language_info": {
   "codemirror_mode": {
    "name": "ipython",
    "version": 3
   },
   "file_extension": ".py",
   "mimetype": "text/x-python",
   "name": "python",
   "nbconvert_exporter": "python",
   "pygments_lexer": "ipython3",
   "version": "3.8.5"
  }
 },
 "nbformat": 4,
 "nbformat_minor": 4
}
